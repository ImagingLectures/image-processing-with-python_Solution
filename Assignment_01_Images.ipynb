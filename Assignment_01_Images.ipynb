{
 "cells": [
  {
   "cell_type": "markdown",
   "metadata": {},
   "source": [
    "# Solutions to assignment 1 - Images "
   ]
  },
  {
   "cell_type": "markdown",
   "metadata": {},
   "source": [
    "The assignments in this course will be done using python. If you are not familiar with python, I recommend that you take a look at a book like this one https://www.safaribooksonline.com/library/view/python-for-data/9781491957653/.\n",
    "In this first assignment, you will be guided through some useful commands that will be used throughout the assignment. There will also always be some demonstrations helping you on the way.\n",
    "\n",
    "Before we start, we need to load some libraries."
   ]
  },
  {
   "cell_type": "code",
   "execution_count": null,
   "metadata": {},
   "outputs": [],
   "source": [
    "import numpy as np\n",
    "import matplotlib.pyplot as plt\n",
    "from scipy import ndimage\n",
    "# this line is needed to display the plots and images inline on the notebook\n",
    "%matplotlib inline "
   ]
  },
  {
   "cell_type": "markdown",
   "metadata": {},
   "source": [
    "## Arrays and images\n",
    "Arrays are the basic data structures we will use in all assignments. We will in particular use the ndarray which is provided by the numpy library. Arrays can be created in different ways."
   ]
  },
  {
   "cell_type": "markdown",
   "metadata": {},
   "source": [
    "By initialization"
   ]
  },
  {
   "cell_type": "code",
   "execution_count": null,
   "metadata": {},
   "outputs": [],
   "source": [
    "a=np.array([1,2,3,4])\n",
    "b=np.array([[1,2,3,4],[5,6,7,8]])\n",
    "\n",
    "print(a)\n",
    "print(\"2D\")\n",
    "print(b)"
   ]
  },
  {
   "cell_type": "markdown",
   "metadata": {},
   "source": [
    "Special initialization"
   ]
  },
  {
   "cell_type": "code",
   "execution_count": null,
   "metadata": {},
   "outputs": [],
   "source": [
    "z=np.zeros([2,3])\n",
    "o=np.ones([3,2])\n",
    "print(z)\n",
    "print(o)"
   ]
  },
  {
   "cell_type": "markdown",
   "metadata": {},
   "source": [
    "Mesh generation"
   ]
  },
  {
   "cell_type": "code",
   "execution_count": null,
   "metadata": {},
   "outputs": [],
   "source": [
    "r=np.arange(0,6) \n",
    "print(r)\n",
    "x,y=np.meshgrid(np.arange(-3,5),np.arange(-5,5))\n",
    "print(x)\n",
    "print(y)"
   ]
  },
  {
   "cell_type": "markdown",
   "metadata": {},
   "source": [
    "Random initialization"
   ]
  },
  {
   "cell_type": "code",
   "execution_count": null,
   "metadata": {},
   "outputs": [],
   "source": [
    "g=np.random.normal(0,1,[2,3]) # Normal distribution m=0.0, s=1.0\n",
    "u=np.random.uniform(0,1,[2,3]) # Uniform distribution [0,1]\n",
    "p=np.random.poisson(3*np.ones([2,3])) # Poisson distribution\n",
    "print(g)\n",
    "print(u)\n",
    "print(p)"
   ]
  },
  {
   "cell_type": "markdown",
   "metadata": {},
   "source": [
    "### Elementwise arithmetics"
   ]
  },
  {
   "cell_type": "code",
   "execution_count": null,
   "metadata": {},
   "outputs": [],
   "source": [
    "b=np.array([[1,2,3,4],[5,6,7,8]])\n",
    "c=np.array([[2,2,3,3],[8,7,7,8]])\n",
    "print(c+b)\n",
    "print(c*b)"
   ]
  },
  {
   "cell_type": "markdown",
   "metadata": {},
   "source": [
    "### Exercise 1\n",
    "Create three matrices\n",
    "$\\begin{array}{ccc}\n",
    "A=\\left[\\begin{array}{ccc}1 & 2 & 3\\\\2 & 1 & 2\\\\ 3 & 2 & 1\\end{array}\\right] & \n",
    "B=\\left[\\begin{array}{ccc}2 & 4 & 8\\end{array}\\right] &\n",
    "C=\\left[\\begin{array}{ccc}1 & 2 & 3\\\\1 & 4 & 9\\\\ 1 & 8 & 27\\end{array}\\right]\n",
    "\\end{array}$\n",
    "\n",
    "    1, Compute elementwise $A+C$, $B*B$\n",
    "\n",
    "    2, Add a Gaussian random matrix ($\\mu$=4, $\\sigma$=2) to $A$\n",
    "    "
   ]
  },
  {
   "cell_type": "markdown",
   "metadata": {},
   "source": [
    "#### Solution 1.1"
   ]
  },
  {
   "cell_type": "code",
   "execution_count": null,
   "metadata": {},
   "outputs": [],
   "source": [
    "# Your code here\n",
    "A=np.array([[1,2,3],[2,1,2],[3,2,1]])\n",
    "B=np.array([2,4,8])\n",
    "C=np.array([[1,2,3],[1,4,9],[1,8,27]])\n",
    "print(\"A+C=\",A+C)\n",
    "print(\"B*B\",B*B, \", B(elementwise squre)\",B**2)"
   ]
  },
  {
   "cell_type": "markdown",
   "metadata": {},
   "source": [
    "#### Solution 1.2"
   ]
  },
  {
   "cell_type": "code",
   "execution_count": null,
   "metadata": {},
   "outputs": [],
   "source": [
    "N=np.random.randn(A.shape[0],A.shape[1])\n",
    "print('A+N=',A+N)"
   ]
  },
  {
   "cell_type": "markdown",
   "metadata": {},
   "source": [
    "## Visualization"
   ]
  },
  {
   "cell_type": "markdown",
   "metadata": {},
   "source": [
    "Visualization of the results is a frequently recurring task when you work with images. Here, you will use Matplot lib for plots and image displays. There are diffent purposes of the visualization and MatPlot lib offers many ways to present and decorate the plots. A good starting point if you want to create beautiful plot is the book https://www.packtpub.com/big-data-and-business-intelligence/matplotlib-plotting-cookbook."
   ]
  },
  {
   "cell_type": "code",
   "execution_count": null,
   "metadata": {},
   "outputs": [],
   "source": [
    "x=np.arange(0,10,0.01)\n",
    "y=np.sin(x)\n",
    "plt.plot(x,y,label='Positive')\n",
    "plt.plot(x,-y,label='Negative')\n",
    "plt.title('Sine plot')\n",
    "plt.xlabel('Angle')\n",
    "plt.ylabel('Amplitude')\n",
    "plt.legend()"
   ]
  },
  {
   "cell_type": "markdown",
   "metadata": {},
   "source": [
    "You can also use subplots"
   ]
  },
  {
   "cell_type": "code",
   "execution_count": null,
   "metadata": {},
   "outputs": [],
   "source": [
    "\n",
    "x=np.arange(0,10,0.01)\n",
    "y=np.sin(x)\n",
    "plt.figure(figsize=[15,10]) # with subplots it makes sense to increase the plot area\n",
    "\n",
    "plt.subplot(2,2,1)\n",
    "plt.plot(x,y,x,-y)\n",
    "plt.title('Sine plot')\n",
    "plt.xlabel('Angle')\n",
    "plt.ylabel('Amplitude')\n",
    "plt.legend({'Positive','Negative'})\n",
    "\n",
    "plt.subplot(2,2,2)\n",
    "plt.plot(x,2*y,x,-y)\n",
    "plt.title('Sine plot')\n",
    "plt.xlabel('Angle')\n",
    "plt.ylabel('Amplitude')\n",
    "plt.legend({'Positive','Negative'})\n",
    "\n",
    "plt.subplot(2,2,3)\n",
    "plt.plot(x,y,x,-2*y)\n",
    "plt.title('Sine plot')\n",
    "plt.xlabel('Angle')\n",
    "plt.ylabel('Amplitude')\n",
    "plt.legend({'Positive','Negative'})\n",
    "\n",
    "plt.subplot(2,2,4)\n",
    "plt.plot(x,2*y,x,-2*y)\n",
    "plt.title('Sine plot')\n",
    "plt.xlabel('Angle')\n",
    "plt.ylabel('Amplitude')\n",
    "plt.legend({'Positive','Negative'})"
   ]
  },
  {
   "cell_type": "markdown",
   "metadata": {},
   "source": [
    "### Display images"
   ]
  },
  {
   "cell_type": "code",
   "execution_count": null,
   "metadata": {},
   "outputs": [],
   "source": [
    "img=np.random.normal(0,1,[100,100])\n",
    "plt.imshow(img, cmap='gray') \n",
    "# colormaps can be found on https://matplotlib.org/examples/color/colormaps_reference.html\n"
   ]
  },
  {
   "cell_type": "markdown",
   "metadata": {},
   "source": [
    "### Save result\n",
    "You can save the resulting plot using. The file type is given by te file extension."
   ]
  },
  {
   "cell_type": "code",
   "execution_count": null,
   "metadata": {},
   "outputs": [],
   "source": [
    "plt.savefig('random.pdf')"
   ]
  },
  {
   "cell_type": "markdown",
   "metadata": {},
   "source": [
    "### Exercise 2a\n",
    "* Create two matrices, one containing x values and one containing $y=\\exp{\\left(-\\frac{x^2}{\\sigma^2}\\right)}$\n",
    "* Plot x and y in the first panel of 1 by 2 panel-figure\n",
    "* Plot x and y with a logarithmic y-axis in the second panel of the same figure\n",
    "\n",
    "Useful commands:\n",
    "* plt.semilogy(x,y), plots with logarithmic y-axis"
   ]
  },
  {
   "cell_type": "markdown",
   "metadata": {},
   "source": [
    "#### Solution 2a"
   ]
  },
  {
   "cell_type": "code",
   "execution_count": null,
   "metadata": {},
   "outputs": [],
   "source": [
    "# your code here\n",
    "x=np.linspace(-10,10,100)\n",
    "sigma=1\n",
    "y=np.exp(-x**2/sigma**2)\n",
    "\n",
    "plt.figure(figsize=[12,5])\n",
    "plt.subplot(1,2,1)\n",
    "plt.plot(x,y,label='lin scale')\n",
    "plt.title('Linear y axis')\n",
    "\n",
    "plt.subplot(1,2,2)\n",
    "plt.semilogy(x,y,label='log scale')\n",
    "plt.title('Logarithmic y axis')"
   ]
  },
  {
   "cell_type": "markdown",
   "metadata": {},
   "source": [
    "### Exercise 2b\n",
    "* Create x and y coordinate matrices using meshgrid (interval -10:0.1:10)\n",
    "* Compute $z=sinc\\left(\\sqrt{x^2+y^2}\\right)$, $sinc(x)=\\frac{\\sin(x)}{x}$ is a predefined function in numpy\n",
    "* Display z in a figure with correct axis-numbering\n",
    "* Add a colorbar\n",
    "* Change the colormap to pink\n",
    "\n",
    "Useful commands: \n",
    "* plt.imshow(img,cmap='mapname'), colormaps can be found on https://matplotlib.org/examples/color/colormaps_reference.html\n",
    "* plt.colorbar()\n"
   ]
  },
  {
   "cell_type": "markdown",
   "metadata": {},
   "source": [
    "#### Solution 2b"
   ]
  },
  {
   "cell_type": "code",
   "execution_count": null,
   "metadata": {},
   "outputs": [],
   "source": [
    "# your code here\n",
    "xx=np.linspace(-10,10,200)\n",
    "x,y=np.meshgrid(xx,xx)\n",
    "z=np.sinc(np.sqrt(x**2+y**2))\n",
    "\n",
    "fig, ax1 = plt.subplots(1,1)\n",
    "extent=[xx[0],xx[-1],xx[0],xx[-1]]\n",
    "plt.imshow(z,cmap='pink',extent=extent)\n"
   ]
  },
  {
   "cell_type": "markdown",
   "metadata": {},
   "source": [
    "## Images"
   ]
  },
  {
   "cell_type": "markdown",
   "metadata": {},
   "source": [
    "### Load and save images\n",
    "Mostly you want to load images to process. There are many options to load and save images. It depends on the loaded libraries and the file types which you chose. Here, we will use the functions provided by matplotlib."
   ]
  },
  {
   "cell_type": "code",
   "execution_count": null,
   "metadata": {},
   "outputs": [],
   "source": [
    "img1=plt.imread('brick_lo.png')\n",
    "img2=plt.imread('sand_bilevel.png')\n",
    "plt.subplot(1,2,1)\n",
    "plt.imshow(img1)\n",
    "plt.subplot(1,2,2)\n",
    "plt.imshow(img2)\n"
   ]
  },
  {
   "cell_type": "markdown",
   "metadata": {},
   "source": [
    "## Programming"
   ]
  },
  {
   "cell_type": "markdown",
   "metadata": {},
   "source": [
    "Sooner of later you will have the need to create functions avoid repeated sequences of the same commands. Functions have the following basic structure:"
   ]
  },
  {
   "cell_type": "markdown",
   "metadata": {},
   "source": [
    "### Functions"
   ]
  },
  {
   "cell_type": "code",
   "execution_count": null,
   "metadata": {
    "collapsed": true
   },
   "outputs": [],
   "source": [
    "def functionname(arg1, arg2) :\n",
    "    #\n",
    "    # Do some stuff here with the arguments \n",
    "    #\n",
    "    return result"
   ]
  },
  {
   "cell_type": "markdown",
   "metadata": {},
   "source": [
    "#### Example"
   ]
  },
  {
   "cell_type": "code",
   "execution_count": null,
   "metadata": {},
   "outputs": [],
   "source": [
    "def rms(x) :\n",
    "    res=sqrt(np.mean(x**2))\n",
    "    \n",
    "    return res"
   ]
  },
  {
   "cell_type": "markdown",
   "metadata": {},
   "source": [
    "### Loops"
   ]
  },
  {
   "cell_type": "markdown",
   "metadata": {},
   "source": [
    "Iterations are often needed. They can be done using for-loops. There are however often optimized array operations that can be used instead."
   ]
  },
  {
   "cell_type": "code",
   "execution_count": null,
   "metadata": {},
   "outputs": [],
   "source": [
    "sum = 0.0\n",
    "for x in np.arange(0,6) :\n",
    "    sum = sum + x\n",
    "    \n",
    "print(sum)"
   ]
  },
  {
   "cell_type": "markdown",
   "metadata": {},
   "source": [
    "You also loop over the contents of an array"
   ]
  },
  {
   "cell_type": "code",
   "execution_count": null,
   "metadata": {},
   "outputs": [],
   "source": [
    "sum = 0.0\n",
    "for x in [1,2,4,8,16] :\n",
    "    sum = sum + x\n",
    "    \n",
    "print(sum)"
   ]
  },
  {
   "cell_type": "markdown",
   "metadata": {},
   "source": [
    "### Branches"
   ]
  },
  {
   "cell_type": "markdown",
   "metadata": {},
   "source": [
    "Sometimes you have to control the behavior depending on the results. This is done by branching"
   ]
  },
  {
   "cell_type": "code",
   "execution_count": null,
   "metadata": {},
   "outputs": [],
   "source": [
    "a=1\n",
    "b=2\n",
    "if (a<b) : # compare something\n",
    "    print('less') # do this if true\n",
    "else :\n",
    "    print('greater') # otherwise this"
   ]
  },
  {
   "cell_type": "markdown",
   "metadata": {},
   "source": [
    "### Exercise 3a\n",
    "Write a function 'expsq' that returns $y=\\exp{\\left(-\\frac{x^2}{\\sigma^2}\\right)}$ when $x$ and $\\sigma$ are provided as arguments."
   ]
  },
  {
   "cell_type": "markdown",
   "metadata": {},
   "source": [
    "#### Solution 3a"
   ]
  },
  {
   "cell_type": "code",
   "execution_count": null,
   "metadata": {},
   "outputs": [],
   "source": [
    "# you code here \n",
    "def expsq(x,sigma) :\n",
    "    y=np.exp(-x**2/sigma**2)\n",
    "    return y"
   ]
  },
  {
   "cell_type": "markdown",
   "metadata": {},
   "source": [
    "### Exercise 3b\n",
    "Write a loop over the values 1,3,5,7 and prints the results from function 'expsq' with $\\sigma$=2"
   ]
  },
  {
   "cell_type": "markdown",
   "metadata": {},
   "source": [
    "#### Solution 3b"
   ]
  },
  {
   "cell_type": "code",
   "execution_count": null,
   "metadata": {
    "collapsed": true
   },
   "outputs": [],
   "source": [
    "# your code here\n",
    "x=[1,3,5,7]\n",
    "for val in x :\n",
    "    print('expsq(',val,')=',expsq(val,sigma=2))"
   ]
  },
  {
   "cell_type": "code",
   "execution_count": null,
   "metadata": {},
   "outputs": [],
   "source": []
  }
 ],
 "metadata": {
  "kernelspec": {
   "display_name": "Python 3",
   "language": "python",
   "name": "python3"
  },
  "language_info": {
   "codemirror_mode": {
    "name": "ipython",
    "version": 3
   },
   "file_extension": ".py",
   "mimetype": "text/x-python",
   "name": "python",
   "nbconvert_exporter": "python",
   "pygments_lexer": "ipython3",
   "version": "3.7.3"
  }
 },
 "nbformat": 4,
 "nbformat_minor": 2
}
